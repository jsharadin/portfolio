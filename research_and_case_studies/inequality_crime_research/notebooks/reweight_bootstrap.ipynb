{
 "cells": [
  {
   "cell_type": "code",
   "execution_count": 19,
   "id": "1bd4b59f-a960-4df5-9d20-85cca1a78c43",
   "metadata": {},
   "outputs": [],
   "source": [
    "import pandas as pd\n",
    "import numpy as np\n",
    "import statsmodels.api as sm\n",
    "from statsmodels.stats.outliers_influence import variance_inflation_factor\n",
    "from sklearn.preprocessing import StandardScaler\n",
    "import seaborn as sns\n",
    "from sklearn.cluster import KMeans\n",
    "import quantecon as qe\n",
    "import matplotlib.pyplot as plt\n",
    "import pickle\n",
    "import kagglehub\n",
    "from linearmodels.iv import IVGMM\n",
    "from linearmodels.iv import IV2SLS\n",
    "from statsmodels.api import add_constant\n",
    "from statsmodels.api import OLS"
   ]
  },
  {
   "cell_type": "code",
   "execution_count": 20,
   "id": "043e354f-3174-42b2-a384-6caaa8fd65ce",
   "metadata": {},
   "outputs": [],
   "source": [
    "# 2010 population + crime data\n",
    "with open('df_2010_controls2_final.pkl', 'rb') as f:\n",
    "    df_2010_controls2_final = pickle.load(f)\n",
    "\n",
    "# Create a copy\n",
    "df_2010_copy = df_2010_controls2_final.copy()"
   ]
  },
  {
   "cell_type": "code",
   "execution_count": 21,
   "id": "89409051-403e-4c35-b1e3-ab5f40b2e9c8",
   "metadata": {},
   "outputs": [
    {
     "name": "stdout",
     "output_type": "stream",
     "text": [
      "     total_pop_1860  total_pop_2010  weight_1860  weight_2010\n",
      "0          363707.0           54571     0.037416     0.006646\n",
      "1          293900.0          182265     0.030235     0.022198\n",
      "2          397008.0           27457     0.040842     0.003344\n",
      "3          138741.0           22915     0.014273     0.002791\n",
      "4          376181.0           57322     0.038699     0.006981\n",
      "..              ...             ...          ...          ...\n",
      "130          1844.0           36312     0.000190     0.004422\n",
      "131          8485.0          102599     0.000873     0.012495\n",
      "132          1786.0            9255     0.000184     0.001127\n",
      "133          5845.0            9563     0.000601     0.001165\n",
      "134          2278.0           21679     0.000234     0.002640\n",
      "\n",
      "[126 rows x 4 columns]\n"
     ]
    }
   ],
   "source": [
    "# Example: Calculate weights based on total_pop_1860\n",
    "df_2010_copy['weight_1860'] = df_2010_copy['total_pop_1860'] / df_2010_copy['total_pop_1860'].sum()\n",
    "\n",
    "# Example: Calculate weights based on total_pop_2010\n",
    "df_2010_copy['weight_2010'] = df_2010_copy['total_pop_2010'] / df_2010_copy['total_pop_2010'].sum()\n",
    "\n",
    "# Check the weights\n",
    "print(df_2010_copy[['total_pop_1860', 'total_pop_2010', 'weight_1860', 'weight_2010']])"
   ]
  },
  {
   "cell_type": "code",
   "execution_count": 22,
   "id": "fff861dc-3b3c-4897-a9b5-560df9ced2bc",
   "metadata": {},
   "outputs": [],
   "source": [
    "def weighted_bootstrap(df, weight_column, n_samples):\n",
    "    \"\"\"\n",
    "    Perform weighted bootstrap resampling.\n",
    "\n",
    "    Parameters:\n",
    "    - df: DataFrame to bootstrap.\n",
    "    - weight_column: Column name containing the weights.\n",
    "    - n_samples: Number of rows to sample in each bootstrap iteration.\n",
    "\n",
    "    Returns:\n",
    "    - Bootstrapped DataFrame.\n",
    "    \"\"\"\n",
    "    # Ensure weights are normalized\n",
    "    weights = df[weight_column]\n",
    "    weights /= weights.sum()  # Normalize weights to sum to 1\n",
    "\n",
    "    # Perform sampling\n",
    "    bootstrapped_indices = np.random.choice(df.index, size=n_samples, replace=True, p=weights)\n",
    "    return df.loc[bootstrapped_indices]\n"
   ]
  },
  {
   "cell_type": "code",
   "execution_count": 23,
   "id": "ca0db0e1-2a8e-49e7-bdf5-058aabcffd8f",
   "metadata": {},
   "outputs": [
    {
     "name": "stdout",
     "output_type": "stream",
     "text": [
      "       mean_pop_1860\n",
      "count    1000.000000\n",
      "mean   170371.140625\n",
      "std     10916.592773\n",
      "min    138151.203125\n",
      "25%    163183.027344\n",
      "50%    169993.328125\n",
      "75%    177753.093750\n",
      "max    220222.953125\n"
     ]
    }
   ],
   "source": [
    "# Number of bootstrap iterations\n",
    "n_bootstrap_iterations = 1000\n",
    "\n",
    "# Store bootstrap results\n",
    "bootstrap_results = []\n",
    "\n",
    "for i in range(n_bootstrap_iterations):\n",
    "    # Generate a bootstrap sample\n",
    "    sample = weighted_bootstrap(df_2010_copy, 'weight_1860', len(df_2010_copy))\n",
    "    \n",
    "    # Example: Run a regression or calculate statistics on the bootstrap sample\n",
    "    # For example, calculate the mean population:\n",
    "    mean_pop_1860 = sample['total_pop_1860'].mean()\n",
    "    bootstrap_results.append(mean_pop_1860)\n",
    "\n",
    "# Convert results to a DataFrame for analysis\n",
    "bootstrap_results_df = pd.DataFrame(bootstrap_results, columns=['mean_pop_1860'])\n",
    "\n",
    "# Check the distribution of bootstrapped statistics\n",
    "print(bootstrap_results_df.describe())\n"
   ]
  },
  {
   "cell_type": "code",
   "execution_count": 24,
   "id": "7683da5a-1ea3-4989-8710-ee17c6e2e11c",
   "metadata": {},
   "outputs": [
    {
     "data": {
      "text/plain": [
       "count       126.000000\n",
       "mean      77148.117188\n",
       "std       84761.898438\n",
       "min        1786.000000\n",
       "25%       13929.500000\n",
       "50%       61007.500000\n",
       "75%       87732.000000\n",
       "max      397008.000000\n",
       "Name: total_pop_1860, dtype: float64"
      ]
     },
     "execution_count": 24,
     "metadata": {},
     "output_type": "execute_result"
    }
   ],
   "source": [
    "df_2010_copy['total_pop_1860'].describe()"
   ]
  },
  {
   "cell_type": "code",
   "execution_count": 25,
   "id": "32269585-41e0-4062-bc30-cba870d0b5f3",
   "metadata": {},
   "outputs": [],
   "source": [
    "# Notice the bootstrapped distribution is significantly different from our original sample distribution. \n",
    "# The bootstrap may be over-inflating counties with larger populations. Lets check this"
   ]
  },
  {
   "cell_type": "code",
   "execution_count": 26,
   "id": "a7ddc137-058e-4b90-86e8-7dfe17072d39",
   "metadata": {},
   "outputs": [
    {
     "data": {
      "image/png": "[encoded data removed]",
      "text/plain": [
       "<Figure size 640x480 with 1 Axes>"
      ]
     },
     "metadata": {},
     "output_type": "display_data"
    },
    {
     "name": "stdout",
     "output_type": "stream",
     "text": [
      "    total_pop_1860  weight_1860\n",
      "2         397008.0     0.040842\n",
      "4         376181.0     0.038699\n",
      "0         363707.0     0.037416\n",
      "8         355106.0     0.036531\n",
      "12        306694.0     0.031551\n"
     ]
    }
   ],
   "source": [
    "# Check the weight distribution\n",
    "plt.hist(df_2010_copy['weight_1860'], bins=20, alpha=0.7)\n",
    "plt.title('Weight Distribution')\n",
    "plt.xlabel('Weight')\n",
    "plt.ylabel('Frequency')\n",
    "plt.show()\n",
    "\n",
    "# Inspect counties with the largest weights\n",
    "print(df_2010_copy[['total_pop_1860', 'weight_1860']].sort_values(by='weight_1860', ascending=False).head())\n",
    "\n",
    "# The weights appear to be heavily skewed. Weights are already normalized."
   ]
  },
  {
   "cell_type": "markdown",
   "id": "7053e414-3a05-4617-b278-be2e7807d370",
   "metadata": {},
   "source": [
    "***Re-calculate the weight distribution based on log population***\n"
   ]
  },
  {
   "cell_type": "code",
   "execution_count": 27,
   "id": "3492c7e0-1d24-49a4-bee5-dd6af9ad1843",
   "metadata": {},
   "outputs": [
    {
     "name": "stdout",
     "output_type": "stream",
     "text": [
      "     log_pop_1860  log_weight_1860\n",
      "0       12.804104         0.009588\n",
      "1       12.590995         0.009428\n",
      "2       12.891712         0.009654\n",
      "3       11.840364         0.008866\n",
      "4       12.837826         0.009613\n",
      "..            ...              ...\n",
      "130      7.519692         0.005631\n",
      "131      9.046055         0.006774\n",
      "132      7.487734         0.005607\n",
      "133      8.673342         0.006495\n",
      "134      7.731053         0.005789\n",
      "\n",
      "[126 rows x 2 columns]\n"
     ]
    }
   ],
   "source": [
    "# Re-calculate the weight distribution based on log population\n",
    "df_2010_copy['log_weight_1860'] = df_2010_copy['log_pop_1860'] / df_2010_copy['log_pop_1860'].sum()\n",
    "\n",
    "# Example: Calculate weights based on total_pop_2010\n",
    "#df_2010_copy['weight_2010'] = df_2010_copy['total_pop_2010'] / df_2010_copy['total_pop_2010'].sum()\n",
    "\n",
    "# Check the weights\n",
    "#print(df_2010_copy[['total_pop_1860', 'total_pop_2010', 'weight_1860', 'weight_2010']])\n",
    "print(df_2010_copy[['log_pop_1860', 'log_weight_1860']])"
   ]
  },
  {
   "cell_type": "code",
   "execution_count": 28,
   "id": "e25d5250-bbf9-4241-8f3c-f395e2d6bcb5",
   "metadata": {},
   "outputs": [],
   "source": [
    "# Re-calculate the weight distribution based on log population\n",
    "df_2010_copy['log_weight_1860'] = df_2010_copy['log_pop_1860'] / df_2010_copy['log_pop_1860'].sum()\n",
    "\n",
    "# Verify weights\n",
    "assert np.isclose(df_2010_copy['log_weight_1860'].sum(), 1.0), \"Weights must sum to 1.\"\n",
    "assert (df_2010_copy['log_weight_1860'] >= 0).all(), \"All weights must be non-negative.\""
   ]
  },
  {
   "cell_type": "code",
   "execution_count": 29,
   "id": "8c9a3d1b-8759-4b44-bc71-a8e1fb7bc864",
   "metadata": {},
   "outputs": [],
   "source": [
    "# Weighted bootstrap function\n",
    "def weighted_bootstrap(df, weight_column, n_samples):\n",
    "    weights = df[weight_column].values\n",
    "    weights /= weights.sum()  # Ensure weights sum to 1\n",
    "    bootstrapped_indices = np.random.choice(\n",
    "        df.index,\n",
    "        size=n_samples,\n",
    "        replace=True,\n",
    "        p=weights\n",
    "    )\n",
    "    return df.loc[bootstrapped_indices]\n",
    "\n",
    "# Number of bootstrap iterations\n",
    "n_bootstrap_iterations = 1000\n",
    "bootstrap_results = np.empty(n_bootstrap_iterations)"
   ]
  },
  {
   "cell_type": "code",
   "execution_count": 30,
   "id": "b96ba4c9-70a1-47ab-bed8-582d6414984b",
   "metadata": {},
   "outputs": [
    {
     "name": "stdout",
     "output_type": "stream",
     "text": [
      "       mean_log_pop_1860\n",
      "count        1000.000000\n",
      "mean           10.762431\n",
      "std             0.109312\n",
      "min            10.313689\n",
      "25%            10.694770\n",
      "50%            10.769338\n",
      "75%            10.836694\n",
      "max            11.091194\n"
     ]
    }
   ],
   "source": [
    "# Perform bootstrap sampling\n",
    "for i in range(n_bootstrap_iterations):\n",
    "    sample = weighted_bootstrap(df_2010_copy, 'log_weight_1860', len(df_2010_copy))\n",
    "    mean_log_pop_1860 = sample['log_pop_1860'].mean()\n",
    "    bootstrap_results[i] = mean_log_pop_1860\n",
    "\n",
    "# Convert results to DataFrame for analysis\n",
    "bootstrap_results_df = pd.DataFrame(bootstrap_results, columns=['mean_log_pop_1860'])\n",
    "\n",
    "# Summary of bootstrap results\n",
    "print(bootstrap_results_df.describe())"
   ]
  },
  {
   "cell_type": "code",
   "execution_count": 31,
   "id": "4a689f6b-ddd8-4c88-943c-edae87b7a22a",
   "metadata": {},
   "outputs": [
    {
     "data": {
      "image/png": "[encoded data removed]",
      "text/plain": [
       "<Figure size 1000x600 with 1 Axes>"
      ]
     },
     "metadata": {},
     "output_type": "display_data"
    }
   ],
   "source": [
    "# Plot the weight distribution\n",
    "plt.figure(figsize=(10, 6))\n",
    "plt.hist(df_2010_copy['log_weight_1860'], bins=20, alpha=0.7, color='blue', edgecolor='black')\n",
    "plt.title('Distribution of Log-Transformed Weights (1860 Population)', fontsize=16)\n",
    "plt.xlabel('Weight', fontsize=14)\n",
    "plt.ylabel('Frequency', fontsize=14)\n",
    "plt.grid(axis='y', linestyle='--', alpha=0.7)\n",
    "plt.tight_layout()\n",
    "plt.show()"
   ]
  },
  {
   "cell_type": "code",
   "execution_count": 32,
   "id": "1147a48c-b286-4424-a535-03ab21c87a1f",
   "metadata": {},
   "outputs": [
    {
     "data": {
      "image/png": "[encoded data removed]",
      "text/plain": [
       "<Figure size 640x480 with 1 Axes>"
      ]
     },
     "metadata": {},
     "output_type": "display_data"
    }
   ],
   "source": [
    "# Visualize the bootstrap distribution\n",
    "sns.histplot(bootstrap_results, bins=30, kde=True)\n",
    "plt.title('Bootstrap Distribution of Mean Log Population (1860)')\n",
    "plt.xlabel('Mean Log Population (1860)')\n",
    "plt.ylabel('Frequency')\n",
    "plt.show()"
   ]
  },
  {
   "cell_type": "code",
   "execution_count": 33,
   "id": "4841ec61-e540-4a29-b20b-48616f6c7006",
   "metadata": {},
   "outputs": [
    {
     "name": "stdout",
     "output_type": "stream",
     "text": [
      "Weighted Mean (Original Data): 10.763226\n",
      "Bootstrap Mean: 10.76243141937256\n"
     ]
    }
   ],
   "source": [
    "# Compare to weighted mean\n",
    "weighted_mean = (df_2010_copy['log_pop_1860'] * df_2010_copy['log_weight_1860']).sum()\n",
    "print(\"Weighted Mean (Original Data):\", weighted_mean)\n",
    "print(\"Bootstrap Mean:\", np.mean(bootstrap_results))"
   ]
  },
  {
   "cell_type": "markdown",
   "id": "563675f9-bedd-4eba-abe6-ff01ced9518d",
   "metadata": {},
   "source": [
    "***Weighted Bootstrap for IV***"
   ]
  },
  {
   "cell_type": "code",
   "execution_count": 34,
   "id": "d1665dc4-7b9e-4469-83fd-ca174dbef6fc",
   "metadata": {},
   "outputs": [],
   "source": [
    "# Define the number of bootstrap iterations\n",
    "n_bootstrap_iterations = 1000\n",
    "\n",
    "# Store bootstrap coefficient estimates\n",
    "bootstrap_coefficients = []\n",
    "\n",
    "# Weighted bootstrap function\n",
    "def weighted_bootstrap_iv(df, weight_column, n_samples):\n",
    "    weights = df[weight_column].values\n",
    "    weights /= weights.sum()  # Normalize weights\n",
    "    bootstrapped_indices = np.random.choice(\n",
    "        df.index, size=n_samples, replace=True, p=weights\n",
    "    )\n",
    "    return df.loc[bootstrapped_indices]"
   ]
  },
  {
   "cell_type": "markdown",
   "id": "f258ea56-c03b-46eb-baa1-cf04653ca087",
   "metadata": {},
   "source": [
    "***Weighted boostrap - murder rate 3 controls***"
   ]
  },
  {
   "cell_type": "code",
   "execution_count": 43,
   "id": "85cad19c-3e75-4b04-88b0-d08c88e159fe",
   "metadata": {},
   "outputs": [
    {
     "name": "stdout",
     "output_type": "stream",
     "text": [
      "Summary Statistics (1 Control):\n",
      "       Coefficient (1 Control)\n",
      "count              1000.000000\n",
      "mean                  3.664167\n",
      "std                   1.164599\n",
      "min                   0.325347\n",
      "25%                   2.844687\n",
      "50%                   3.591629\n",
      "75%                   4.349069\n",
      "max                   9.481029\n",
      "\n",
      "Summary Statistics (2 Controls):\n",
      "       Coefficient (2 Controls)\n",
      "count               1000.000000\n",
      "mean                   4.201412\n",
      "std                    1.263366\n",
      "min                    0.442214\n",
      "25%                    3.349552\n",
      "50%                    4.130394\n",
      "75%                    4.923760\n",
      "max                   11.544753\n",
      "\n",
      "Summary Statistics (3 Controls):\n",
      "       Coefficient (3 Controls)\n",
      "count               1000.000000\n",
      "mean                   4.202382\n",
      "std                    1.263401\n",
      "min                    0.379424\n",
      "25%                    3.355987\n",
      "50%                    4.121454\n",
      "75%                    4.927060\n",
      "max                   11.127598\n"
     ]
    }
   ],
   "source": [
    "\n",
    "# Number of bootstrap iterations\n",
    "n_bootstrap_iterations = 1000\n",
    "\n",
    "# Initialize lists to store bootstrap results for each regression\n",
    "bootstrap_coefficients_1 = []\n",
    "bootstrap_coefficients_2 = []\n",
    "bootstrap_coefficients_3 = []\n",
    "\n",
    "# Perform the weighted bootstrap with log weights\n",
    "for i in range(n_bootstrap_iterations):\n",
    "    # Generate a bootstrap sample using log weights\n",
    "    sample = weighted_bootstrap(df_2010_copy, 'log_weight_1860', len(df_2010_copy))\n",
    "    \n",
    "    # 1. Regression with 1 Control\n",
    "    y_first_stage_1 = sample['gini_stata']\n",
    "    X_first_stage_1 = sample[['log_slave', 'pop_density_1860']]\n",
    "    X_first_stage_1 = sm.add_constant(X_first_stage_1)\n",
    "    model_first_stage_1 = sm.OLS(y_first_stage_1, X_first_stage_1).fit()\n",
    "    fitted_gini_stata_1 = model_first_stage_1.predict(X_first_stage_1)\n",
    "\n",
    "    y_second_stage_1 = sample['log_murder_rate']\n",
    "    X_second_stage_1 = sample[['pop_density_2010']]\n",
    "    X_second_stage_1 = sm.add_constant(X_second_stage_1)\n",
    "\n",
    "    iv_model_1 = IV2SLS(\n",
    "        dependent=y_second_stage_1,\n",
    "        exog=X_second_stage_1,\n",
    "        endog=sample['gini_stata'],\n",
    "        instruments=sample[['log_slave']]\n",
    "    )\n",
    "    iv_results_1 = iv_model_1.fit()\n",
    "    bootstrap_coefficients_1.append(iv_results_1.params['gini_stata'])\n",
    "\n",
    "    # 2. Regression with 2 Controls\n",
    "    y_first_stage_2 = sample['gini_stata']\n",
    "    X_first_stage_2 = sample[['log_slave', 'pop_density_1860', 'total_males_15_29_1860']]\n",
    "    X_first_stage_2 = sm.add_constant(X_first_stage_2)\n",
    "    model_first_stage_2 = sm.OLS(y_first_stage_2, X_first_stage_2).fit()\n",
    "    fitted_gini_stata_2 = model_first_stage_2.predict(X_first_stage_2)\n",
    "\n",
    "    y_second_stage_2 = sample['log_murder_rate']\n",
    "    X_second_stage_2 = sample[['pop_density_2010', 'total_males_15_29_2010']]\n",
    "    X_second_stage_2 = sm.add_constant(X_second_stage_2)\n",
    "\n",
    "    iv_model_2 = IV2SLS(\n",
    "        dependent=y_second_stage_2,\n",
    "        exog=X_second_stage_2,\n",
    "        endog=sample['gini_stata'],\n",
    "        instruments=sample[['log_slave']]\n",
    "    )\n",
    "    iv_results_2 = iv_model_2.fit()\n",
    "    bootstrap_coefficients_2.append(iv_results_2.params['gini_stata'])\n",
    "\n",
    "    # 3. Regression with 3 Controls\n",
    "    y_first_stage_3 = sample['gini_stata']\n",
    "    X_first_stage_3 = sample[['log_slave', 'pop_density_1860', 'total_males_15_29_1860', 'ag_gdp_1860']]\n",
    "    X_first_stage_3 = sm.add_constant(X_first_stage_3)\n",
    "    model_first_stage_3 = sm.OLS(y_first_stage_3, X_first_stage_3).fit()\n",
    "    fitted_gini_stata_3 = model_first_stage_3.predict(X_first_stage_3)\n",
    "\n",
    "    y_second_stage_3 = sample['log_murder_rate']\n",
    "    X_second_stage_3 = sample[['pop_density_2010', 'total_males_15_29_2010', 'gdp_2010']]\n",
    "    X_second_stage_3 = sm.add_constant(X_second_stage_3)\n",
    "\n",
    "    iv_model_3 = IV2SLS(\n",
    "        dependent=y_second_stage_3,\n",
    "        exog=X_second_stage_3,\n",
    "        endog=sample['gini_stata'],\n",
    "        instruments=sample[['log_slave']]\n",
    "    )\n",
    "    iv_results_3 = iv_model_3.fit()\n",
    "    bootstrap_coefficients_3.append(iv_results_3.params['gini_stata'])\n",
    "\n",
    "# Convert bootstrap results to DataFrames\n",
    "bootstrap_results_1 = pd.DataFrame(bootstrap_coefficients_1, columns=['Coefficient (1 Control)'])\n",
    "bootstrap_results_2 = pd.DataFrame(bootstrap_coefficients_2, columns=['Coefficient (2 Controls)'])\n",
    "bootstrap_results_3 = pd.DataFrame(bootstrap_coefficients_3, columns=['Coefficient (3 Controls)'])\n",
    "\n",
    "# Print summary statistics\n",
    "print(\"Summary Statistics (1 Control):\")\n",
    "print(bootstrap_results_1.describe())\n",
    "\n",
    "print(\"\\nSummary Statistics (2 Controls):\")\n",
    "print(bootstrap_results_2.describe())\n",
    "\n",
    "print(\"\\nSummary Statistics (3 Controls):\")\n",
    "print(bootstrap_results_3.describe())\n"
   ]
  },
  {
   "cell_type": "markdown",
   "id": "3d36aff6-2f2b-4340-ab71-dd6dfd8411ab",
   "metadata": {},
   "source": [
    "***Weighted boostrap - mtv theft rate 3 controls***"
   ]
  },
  {
   "cell_type": "code",
   "execution_count": 44,
   "id": "905b1bc3-1b78-4273-ac46-9361d10c706f",
   "metadata": {},
   "outputs": [
    {
     "name": "stdout",
     "output_type": "stream",
     "text": [
      "Summary Statistics (1 Control):\n",
      "       Coefficient (1 Control)\n",
      "count              1000.000000\n",
      "mean                  1.067433\n",
      "std                   1.484613\n",
      "min                  -3.803819\n",
      "25%                   0.120015\n",
      "50%                   1.030305\n",
      "75%                   2.044599\n",
      "max                   6.224443\n",
      "\n",
      "Summary Statistics (2 Controls):\n",
      "       Coefficient (2 Controls)\n",
      "count               1000.000000\n",
      "mean                   1.657588\n",
      "std                    1.601199\n",
      "min                   -3.559225\n",
      "25%                    0.603947\n",
      "50%                    1.594862\n",
      "75%                    2.695521\n",
      "max                    7.769796\n",
      "\n",
      "Summary Statistics (3 Controls):\n",
      "       Coefficient (3 Controls)\n",
      "count               1000.000000\n",
      "mean                   1.675050\n",
      "std                    1.602789\n",
      "min                   -3.462847\n",
      "25%                    0.610644\n",
      "50%                    1.600799\n",
      "75%                    2.683669\n",
      "max                    7.900071\n"
     ]
    }
   ],
   "source": [
    "# Number of bootstrap iterations\n",
    "n_bootstrap_iterations = 1000\n",
    "\n",
    "# Initialize lists to store bootstrap results for each regression\n",
    "bootstrap_coefficients_1 = []\n",
    "bootstrap_coefficients_2 = []\n",
    "bootstrap_coefficients_3 = []\n",
    "\n",
    "# Perform the weighted bootstrap with log weights\n",
    "for i in range(n_bootstrap_iterations):\n",
    "    # Generate a bootstrap sample using log weights\n",
    "    sample = weighted_bootstrap(df_2010_copy, 'log_weight_1860', len(df_2010_copy))\n",
    "    \n",
    "    # 1. Regression with 1 Control\n",
    "    y_first_stage_1 = sample['gini_stata']\n",
    "    X_first_stage_1 = sample[['log_slave', 'pop_density_1860']]\n",
    "    X_first_stage_1 = sm.add_constant(X_first_stage_1)\n",
    "    model_first_stage_1 = sm.OLS(y_first_stage_1, X_first_stage_1).fit()\n",
    "    fitted_gini_stata_1 = model_first_stage_1.predict(X_first_stage_1)\n",
    "\n",
    "    y_second_stage_1 = sample['log_mtv_theft_rate']\n",
    "    X_second_stage_1 = sample[['pop_density_2010']]\n",
    "    X_second_stage_1 = sm.add_constant(X_second_stage_1)\n",
    "\n",
    "    iv_model_1 = IV2SLS(\n",
    "        dependent=y_second_stage_1,\n",
    "        exog=X_second_stage_1,\n",
    "        endog=sample['gini_stata'],\n",
    "        instruments=sample[['log_slave']]\n",
    "    )\n",
    "    iv_results_1 = iv_model_1.fit()\n",
    "    bootstrap_coefficients_1.append(iv_results_1.params['gini_stata'])\n",
    "\n",
    "    # 2. Regression with 2 Controls\n",
    "    y_first_stage_2 = sample['gini_stata']\n",
    "    X_first_stage_2 = sample[['log_slave', 'pop_density_1860', 'total_males_15_29_1860']]\n",
    "    X_first_stage_2 = sm.add_constant(X_first_stage_2)\n",
    "    model_first_stage_2 = sm.OLS(y_first_stage_2, X_first_stage_2).fit()\n",
    "    fitted_gini_stata_2 = model_first_stage_2.predict(X_first_stage_2)\n",
    "\n",
    "    y_second_stage_2 = sample['log_mtv_theft_rate']\n",
    "    X_second_stage_2 = sample[['pop_density_2010', 'total_males_15_29_2010']]\n",
    "    X_second_stage_2 = sm.add_constant(X_second_stage_2)\n",
    "\n",
    "    iv_model_2 = IV2SLS(\n",
    "        dependent=y_second_stage_2,\n",
    "        exog=X_second_stage_2,\n",
    "        endog=sample['gini_stata'],\n",
    "        instruments=sample[['log_slave']]\n",
    "    )\n",
    "    iv_results_2 = iv_model_2.fit()\n",
    "    bootstrap_coefficients_2.append(iv_results_2.params['gini_stata'])\n",
    "\n",
    "    # 3. Regression with 3 Controls\n",
    "    y_first_stage_3 = sample['gini_stata']\n",
    "    X_first_stage_3 = sample[['log_slave', 'pop_density_1860', 'total_males_15_29_1860', 'ag_gdp_1860']]\n",
    "    X_first_stage_3 = sm.add_constant(X_first_stage_3)\n",
    "    model_first_stage_3 = sm.OLS(y_first_stage_3, X_first_stage_3).fit()\n",
    "    fitted_gini_stata_3 = model_first_stage_3.predict(X_first_stage_3)\n",
    "\n",
    "    y_second_stage_3 = sample['log_mtv_theft_rate']\n",
    "    X_second_stage_3 = sample[['pop_density_2010', 'total_males_15_29_2010', 'gdp_2010']]\n",
    "    X_second_stage_3 = sm.add_constant(X_second_stage_3)\n",
    "\n",
    "    iv_model_3 = IV2SLS(\n",
    "        dependent=y_second_stage_3,\n",
    "        exog=X_second_stage_3,\n",
    "        endog=sample['gini_stata'],\n",
    "        instruments=sample[['log_slave']]\n",
    "    )\n",
    "    iv_results_3 = iv_model_3.fit()\n",
    "    bootstrap_coefficients_3.append(iv_results_3.params['gini_stata'])\n",
    "\n",
    "# Convert bootstrap results to DataFrames\n",
    "bootstrap_results_1 = pd.DataFrame(bootstrap_coefficients_1, columns=['Coefficient (1 Control)'])\n",
    "bootstrap_results_2 = pd.DataFrame(bootstrap_coefficients_2, columns=['Coefficient (2 Controls)'])\n",
    "bootstrap_results_3 = pd.DataFrame(bootstrap_coefficients_3, columns=['Coefficient (3 Controls)'])\n",
    "\n",
    "# Print summary statistics\n",
    "print(\"Summary Statistics (1 Control):\")\n",
    "print(bootstrap_results_1.describe())\n",
    "\n",
    "print(\"\\nSummary Statistics (2 Controls):\")\n",
    "print(bootstrap_results_2.describe())\n",
    "\n",
    "print(\"\\nSummary Statistics (3 Controls):\")\n",
    "print(bootstrap_results_3.describe())\n"
   ]
  },
  {
   "cell_type": "markdown",
   "id": "06c674db-4f4d-47eb-8d8d-4fd33ef8d39c",
   "metadata": {},
   "source": [
    "***Weighted boostrap - crime rate 3 controls***"
   ]
  },
  {
   "cell_type": "code",
   "execution_count": 45,
   "id": "747a4e90-0b43-49b3-8887-b5b2b654be5f",
   "metadata": {},
   "outputs": [
    {
     "name": "stdout",
     "output_type": "stream",
     "text": [
      "Summary Statistics (1 Control):\n",
      "       Coefficient (1 Control)\n",
      "count              1000.000000\n",
      "mean                 -0.411278\n",
      "std                   0.756934\n",
      "min                  -2.995869\n",
      "25%                  -0.874609\n",
      "50%                  -0.388166\n",
      "75%                   0.077688\n",
      "max                   2.347225\n",
      "\n",
      "Summary Statistics (2 Controls):\n",
      "       Coefficient (2 Controls)\n",
      "count               1000.000000\n",
      "mean                  -0.040335\n",
      "std                    0.746072\n",
      "min                   -2.198247\n",
      "25%                   -0.518186\n",
      "50%                   -0.021926\n",
      "75%                    0.431451\n",
      "max                    2.931831\n",
      "\n",
      "Summary Statistics (3 Controls):\n",
      "       Coefficient (3 Controls)\n",
      "count               1000.000000\n",
      "mean                  -0.065329\n",
      "std                    0.747864\n",
      "min                   -2.245805\n",
      "25%                   -0.555853\n",
      "50%                   -0.045206\n",
      "75%                    0.413177\n",
      "max                    2.928620\n"
     ]
    }
   ],
   "source": [
    "# Number of bootstrap iterations\n",
    "n_bootstrap_iterations = 1000\n",
    "\n",
    "# Initialize lists to store bootstrap results for each regression\n",
    "bootstrap_coefficients_1 = []\n",
    "bootstrap_coefficients_2 = []\n",
    "bootstrap_coefficients_3 = []\n",
    "\n",
    "# Perform the weighted bootstrap with log weights\n",
    "for i in range(n_bootstrap_iterations):\n",
    "    # Generate a bootstrap sample using log weights\n",
    "    sample = weighted_bootstrap(df_2010_copy, 'log_weight_1860', len(df_2010_copy))\n",
    "    \n",
    "    # 1. Regression with 1 Control\n",
    "    y_first_stage_1 = sample['gini_stata']\n",
    "    X_first_stage_1 = sample[['log_slave', 'pop_density_1860']]\n",
    "    X_first_stage_1 = sm.add_constant(X_first_stage_1)\n",
    "    model_first_stage_1 = sm.OLS(y_first_stage_1, X_first_stage_1).fit()\n",
    "    fitted_gini_stata_1 = model_first_stage_1.predict(X_first_stage_1)\n",
    "\n",
    "    y_second_stage_1 = sample['log_crime_rate']\n",
    "    X_second_stage_1 = sample[['pop_density_2010']]\n",
    "    X_second_stage_1 = sm.add_constant(X_second_stage_1)\n",
    "\n",
    "    iv_model_1 = IV2SLS(\n",
    "        dependent=y_second_stage_1,\n",
    "        exog=X_second_stage_1,\n",
    "        endog=sample['gini_stata'],\n",
    "        instruments=sample[['log_slave']]\n",
    "    )\n",
    "    iv_results_1 = iv_model_1.fit()\n",
    "    bootstrap_coefficients_1.append(iv_results_1.params['gini_stata'])\n",
    "\n",
    "    # 2. Regression with 2 Controls\n",
    "    y_first_stage_2 = sample['gini_stata']\n",
    "    X_first_stage_2 = sample[['log_slave', 'pop_density_1860', 'total_males_15_29_1860']]\n",
    "    X_first_stage_2 = sm.add_constant(X_first_stage_2)\n",
    "    model_first_stage_2 = sm.OLS(y_first_stage_2, X_first_stage_2).fit()\n",
    "    fitted_gini_stata_2 = model_first_stage_2.predict(X_first_stage_2)\n",
    "\n",
    "    y_second_stage_2 = sample['log_crime_rate']\n",
    "    X_second_stage_2 = sample[['pop_density_2010', 'total_males_15_29_2010']]\n",
    "    X_second_stage_2 = sm.add_constant(X_second_stage_2)\n",
    "\n",
    "    iv_model_2 = IV2SLS(\n",
    "        dependent=y_second_stage_2,\n",
    "        exog=X_second_stage_2,\n",
    "        endog=sample['gini_stata'],\n",
    "        instruments=sample[['log_slave']]\n",
    "    )\n",
    "    iv_results_2 = iv_model_2.fit()\n",
    "    bootstrap_coefficients_2.append(iv_results_2.params['gini_stata'])\n",
    "\n",
    "    # 3. Regression with 3 Controls\n",
    "    y_first_stage_3 = sample['gini_stata']\n",
    "    X_first_stage_3 = sample[['log_slave', 'pop_density_1860', 'total_males_15_29_1860', 'ag_gdp_1860']]\n",
    "    X_first_stage_3 = sm.add_constant(X_first_stage_3)\n",
    "    model_first_stage_3 = sm.OLS(y_first_stage_3, X_first_stage_3).fit()\n",
    "    fitted_gini_stata_3 = model_first_stage_3.predict(X_first_stage_3)\n",
    "\n",
    "    y_second_stage_3 = sample['log_crime_rate']\n",
    "    X_second_stage_3 = sample[['pop_density_2010', 'total_males_15_29_2010', 'gdp_2010']]\n",
    "    X_second_stage_3 = sm.add_constant(X_second_stage_3)\n",
    "\n",
    "    iv_model_3 = IV2SLS(\n",
    "        dependent=y_second_stage_3,\n",
    "        exog=X_second_stage_3,\n",
    "        endog=sample['gini_stata'],\n",
    "        instruments=sample[['log_slave']]\n",
    "    )\n",
    "    iv_results_3 = iv_model_3.fit()\n",
    "    bootstrap_coefficients_3.append(iv_results_3.params['gini_stata'])\n",
    "\n",
    "# Convert bootstrap results to DataFrames\n",
    "bootstrap_results_1 = pd.DataFrame(bootstrap_coefficients_1, columns=['Coefficient (1 Control)'])\n",
    "bootstrap_results_2 = pd.DataFrame(bootstrap_coefficients_2, columns=['Coefficient (2 Controls)'])\n",
    "bootstrap_results_3 = pd.DataFrame(bootstrap_coefficients_3, columns=['Coefficient (3 Controls)'])\n",
    "\n",
    "# Print summary statistics\n",
    "print(\"Summary Statistics (1 Control):\")\n",
    "print(bootstrap_results_1.describe())\n",
    "\n",
    "print(\"\\nSummary Statistics (2 Controls):\")\n",
    "print(bootstrap_results_2.describe())\n",
    "\n",
    "print(\"\\nSummary Statistics (3 Controls):\")\n",
    "print(bootstrap_results_3.describe())\n"
   ]
  },
  {
   "cell_type": "markdown",
   "id": "18e22ac6-3e1d-44fe-988f-31fc70410a00",
   "metadata": {},
   "source": [
    "***1st stage weighted bootstrap regressions***"
   ]
  },
  {
   "cell_type": "code",
   "execution_count": 46,
   "id": "9a9585e6-b8ed-46e1-83e3-0a66a26ca39e",
   "metadata": {},
   "outputs": [
    {
     "name": "stdout",
     "output_type": "stream",
     "text": [
      "Summary Statistics (1 Control):\n",
      "       Coefficient (1 Control)\n",
      "count              1000.000000\n",
      "mean                  0.063845\n",
      "std                   0.010274\n",
      "min                   0.033586\n",
      "25%                   0.057066\n",
      "50%                   0.063597\n",
      "75%                   0.070251\n",
      "max                   0.103565\n",
      "\n",
      "Summary Statistics (2 Controls):\n",
      "       Coefficient (2 Controls)\n",
      "count               1000.000000\n",
      "mean                   0.058928\n",
      "std                    0.010527\n",
      "min                    0.027167\n",
      "25%                    0.052014\n",
      "50%                    0.058707\n",
      "75%                    0.065458\n",
      "max                    0.100312\n",
      "\n",
      "Summary Statistics (3 Controls):\n",
      "       Coefficient (3 Controls)\n",
      "count               1000.000000\n",
      "mean                   0.059747\n",
      "std                    0.016195\n",
      "min                    0.003893\n",
      "25%                    0.048666\n",
      "50%                    0.060572\n",
      "75%                    0.071017\n",
      "max                    0.117231\n"
     ]
    }
   ],
   "source": [
    "# Number of bootstrap iterations\n",
    "n_bootstrap_iterations = 1000\n",
    "\n",
    "# Initialize lists to store bootstrap results for each regression\n",
    "bootstrap_coefficients_1 = []\n",
    "bootstrap_coefficients_2 = []\n",
    "bootstrap_coefficients_3 = []\n",
    "\n",
    "# Perform the weighted bootstrap for the first stage\n",
    "for i in range(n_bootstrap_iterations):\n",
    "    # Generate a bootstrap sample using log weights\n",
    "    sample = weighted_bootstrap(df_2010_copy, 'log_weight_1860', len(df_2010_copy))\n",
    "    \n",
    "    # 1. First Stage with 1 Control\n",
    "    y_first_stage_1 = sample['gini_stata']\n",
    "    X_first_stage_1 = sample[['log_slave', 'pop_density_1860']]\n",
    "    X_first_stage_1 = sm.add_constant(X_first_stage_1)\n",
    "    model_first_stage_1 = sm.OLS(y_first_stage_1, X_first_stage_1).fit()\n",
    "    bootstrap_coefficients_1.append(model_first_stage_1.params['log_slave'])\n",
    "\n",
    "    # 2. First Stage with 2 Controls\n",
    "    y_first_stage_2 = sample['gini_stata']\n",
    "    X_first_stage_2 = sample[['log_slave', 'pop_density_1860', 'total_males_15_29_1860']]\n",
    "    X_first_stage_2 = sm.add_constant(X_first_stage_2)\n",
    "    model_first_stage_2 = sm.OLS(y_first_stage_2, X_first_stage_2).fit()\n",
    "    bootstrap_coefficients_2.append(model_first_stage_2.params['log_slave'])\n",
    "\n",
    "    # 3. First Stage with 3 Controls\n",
    "    y_first_stage_3 = sample['gini_stata']\n",
    "    X_first_stage_3 = sample[['log_slave', 'pop_density_1860', 'total_males_15_29_1860', 'ag_gdp_1860']]\n",
    "    X_first_stage_3 = sm.add_constant(X_first_stage_3)\n",
    "    model_first_stage_3 = sm.OLS(y_first_stage_3, X_first_stage_3).fit()\n",
    "    bootstrap_coefficients_3.append(model_first_stage_3.params['log_slave'])\n",
    "\n",
    "# Convert bootstrap results to DataFrames\n",
    "bootstrap_results_1 = pd.DataFrame(bootstrap_coefficients_1, columns=['Coefficient (1 Control)'])\n",
    "bootstrap_results_2 = pd.DataFrame(bootstrap_coefficients_2, columns=['Coefficient (2 Controls)'])\n",
    "bootstrap_results_3 = pd.DataFrame(bootstrap_coefficients_3, columns=['Coefficient (3 Controls)'])\n",
    "\n",
    "# Print summary statistics\n",
    "print(\"Summary Statistics (1 Control):\")\n",
    "print(bootstrap_results_1.describe())\n",
    "\n",
    "print(\"\\nSummary Statistics (2 Controls):\")\n",
    "print(bootstrap_results_2.describe())\n",
    "\n",
    "print(\"\\nSummary Statistics (3 Controls):\")\n",
    "print(bootstrap_results_3.describe())"
   ]
  },
  {
   "cell_type": "code",
   "execution_count": null,
   "id": "d8f5dfcd-6cf3-4e38-adab-86f1d18412b4",
   "metadata": {},
   "outputs": [],
   "source": []
  }
 ],
 "metadata": {
  "kernelspec": {
   "display_name": "Python 3 (ipykernel)",
   "language": "python",
   "name": "python3"
  },
  "language_info": {
   "codemirror_mode": {
    "name": "ipython",
    "version": 3
   },
   "file_extension": ".py",
   "mimetype": "text/x-python",
   "name": "python",
   "nbconvert_exporter": "python",
   "pygments_lexer": "ipython3",
   "version": "3.9.6"
  }
 },
 "nbformat": 4,
 "nbformat_minor": 5
}
